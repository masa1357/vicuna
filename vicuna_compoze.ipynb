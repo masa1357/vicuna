{
 "cells": [
  {
   "cell_type": "markdown",
   "metadata": {},
   "source": [
    "# Vicuna 圧縮テスト\n",
    "Vicuna_13bを無理やり圧縮して使う"
   ]
  },
  {
   "cell_type": "code",
   "execution_count": 1,
   "metadata": {},
   "outputs": [
    {
     "name": "stderr",
     "output_type": "stream",
     "text": [
      "/usr/local/lib/python3.10/dist-packages/tqdm/auto.py:21: TqdmWarning: IProgress not found. Please update jupyter and ipywidgets. See https://ipywidgets.readthedocs.io/en/stable/user_install.html\n",
      "  from .autonotebook import tqdm as notebook_tqdm\n"
     ]
    }
   ],
   "source": [
    "from datasets import load_dataset\n",
    "from transformers import AutoTokenizer, AutoModelForCausalLM, GenerationConfig\n",
    "import torch\n",
    "from torch import bfloat16\n",
    "import transformers\n",
    "from string import Template\n",
    "from datasets import Dataset\n",
    "import pandas as pd"
   ]
  },
  {
   "cell_type": "markdown",
   "metadata": {},
   "source": [
    "### データセット読み込み\n"
   ]
  },
  {
   "cell_type": "code",
   "execution_count": 2,
   "metadata": {},
   "outputs": [
    {
     "data": {
      "text/html": [
       "<div>\n",
       "<style scoped>\n",
       "    .dataframe tbody tr th:only-of-type {\n",
       "        vertical-align: middle;\n",
       "    }\n",
       "\n",
       "    .dataframe tbody tr th {\n",
       "        vertical-align: top;\n",
       "    }\n",
       "\n",
       "    .dataframe thead th {\n",
       "        text-align: right;\n",
       "    }\n",
       "</style>\n",
       "<table border=\"1\" class=\"dataframe\">\n",
       "  <thead>\n",
       "    <tr style=\"text-align: right;\">\n",
       "      <th></th>\n",
       "      <th>userid</th>\n",
       "      <th>course_number</th>\n",
       "      <th>question_number</th>\n",
       "      <th>question_content</th>\n",
       "      <th>text</th>\n",
       "      <th>label</th>\n",
       "      <th>label_mapped</th>\n",
       "    </tr>\n",
       "  </thead>\n",
       "  <tbody>\n",
       "    <tr>\n",
       "      <th>0</th>\n",
       "      <td>D-2020_U51</td>\n",
       "      <td>1</td>\n",
       "      <td>1</td>\n",
       "      <td>今日の内容を自分なりの言葉で説明してみてください</td>\n",
       "      <td>黄色のｍoodleにログインしてそのあと水色のmoodleにリンク授業開始までにteamsの...</td>\n",
       "      <td>4</td>\n",
       "      <td>F</td>\n",
       "    </tr>\n",
       "    <tr>\n",
       "      <th>1</th>\n",
       "      <td>D-2020_U51</td>\n",
       "      <td>1</td>\n",
       "      <td>2</td>\n",
       "      <td>今日の内容で、分かったこと・できたことを書いてください</td>\n",
       "      <td>授業の進め方が理解できた</td>\n",
       "      <td>4</td>\n",
       "      <td>F</td>\n",
       "    </tr>\n",
       "    <tr>\n",
       "      <th>2</th>\n",
       "      <td>D-2020_U51</td>\n",
       "      <td>1</td>\n",
       "      <td>5</td>\n",
       "      <td>今日の授業の感想や反省を書いてください</td>\n",
       "      <td>オンライン授業ならではの利点を活用する工夫で最初は大丈夫かと不安だったが何とかなりそうだと感じた</td>\n",
       "      <td>4</td>\n",
       "      <td>F</td>\n",
       "    </tr>\n",
       "    <tr>\n",
       "      <th>3</th>\n",
       "      <td>D-2020_U45</td>\n",
       "      <td>1</td>\n",
       "      <td>1</td>\n",
       "      <td>今日の内容を自分なりの言葉で説明してみてください</td>\n",
       "      <td>講義の進め方のガイダンス</td>\n",
       "      <td>1</td>\n",
       "      <td>B</td>\n",
       "    </tr>\n",
       "    <tr>\n",
       "      <th>4</th>\n",
       "      <td>D-2020_U45</td>\n",
       "      <td>1</td>\n",
       "      <td>2</td>\n",
       "      <td>今日の内容で、分かったこと・できたことを書いてください</td>\n",
       "      <td>講義概要\\r\\nbookrollの操作方法\\r\\n講義の進め方\\r\\n講義時間以外でやるべきこと</td>\n",
       "      <td>1</td>\n",
       "      <td>B</td>\n",
       "    </tr>\n",
       "  </tbody>\n",
       "</table>\n",
       "</div>"
      ],
      "text/plain": [
       "       userid  course_number  question_number             question_content  \\\n",
       "0  D-2020_U51              1                1     今日の内容を自分なりの言葉で説明してみてください   \n",
       "1  D-2020_U51              1                2  今日の内容で、分かったこと・できたことを書いてください   \n",
       "2  D-2020_U51              1                5          今日の授業の感想や反省を書いてください   \n",
       "3  D-2020_U45              1                1     今日の内容を自分なりの言葉で説明してみてください   \n",
       "4  D-2020_U45              1                2  今日の内容で、分かったこと・できたことを書いてください   \n",
       "\n",
       "                                                text  label label_mapped  \n",
       "0  黄色のｍoodleにログインしてそのあと水色のmoodleにリンク授業開始までにteamsの...      4            F  \n",
       "1                                       授業の進め方が理解できた      4            F  \n",
       "2   オンライン授業ならではの利点を活用する工夫で最初は大丈夫かと不安だったが何とかなりそうだと感じた      4            F  \n",
       "3                                       講義の進め方のガイダンス      1            B  \n",
       "4   講義概要\\r\\nbookrollの操作方法\\r\\n講義の進め方\\r\\n講義時間以外でやるべきこと      1            B  "
      ]
     },
     "execution_count": 2,
     "metadata": {},
     "output_type": "execute_result"
    }
   ],
   "source": [
    "df = pd.read_csv('./Data/newdf.csv')\n",
    "df.head()"
   ]
  },
  {
   "cell_type": "code",
   "execution_count": 3,
   "metadata": {},
   "outputs": [
    {
     "data": {
      "text/plain": [
       "[{'id': 0, 'question': '今日の内容を自分なりの言葉で説明してみてください'},\n",
       " {'id': 1, 'question': '今日の内容で、分かったこと・できたことを書いてください'},\n",
       " {'id': 2, 'question': '今日の授業の感想や反省を書いてください'},\n",
       " {'id': 3, 'question': '今日の内容を自分なりの言葉で説明してみてください'},\n",
       " {'id': 4, 'question': '今日の内容で、分かったこと・できたことを書いてください'},\n",
       " {'id': 5, 'question': '今日の授業の感想や反省を書いてください'},\n",
       " {'id': 6, 'question': '今日の内容を自分なりの言葉で説明してみてください'},\n",
       " {'id': 7, 'question': '今日の内容で、分かったこと・できたことを書いてください'}]"
      ]
     },
     "execution_count": 3,
     "metadata": {},
     "output_type": "execute_result"
    }
   ],
   "source": [
    "questions = []\n",
    "for i in range(df[\"question_number\"].unique().shape[0]):\n",
    "    # print(f\"index: {i}\")\n",
    "    # print(f\"question text: {df['question_content'][i]}\")\n",
    "    question = {\"id\": i, \"question\": df[\"question_content\"][i]}\n",
    "    questions.append(question)\n",
    "\n",
    "questions"
   ]
  },
  {
   "cell_type": "code",
   "execution_count": 4,
   "metadata": {},
   "outputs": [],
   "source": [
    "# 講義番号，質問番号ごとに列を作成\n",
    "def create_column_name(row):\n",
    "    return f\"text-{row['question_number']}\"\n",
    "\n",
    "# 新しい列\n",
    "df[\"new_column\"] = df.apply(create_column_name, axis=1)\n",
    "\n",
    "# 新しいデータフレームを定義\n",
    "df_pivoted = df.pivot_table(\n",
    "    index=[\"userid\", \"course_number\", \"label\", \"label_mapped\"],\n",
    "    columns=\"new_column\",\n",
    "    values=\"text\",\n",
    "    aggfunc=lambda x: \" \".join(str(item) for item in x),\n",
    "    # aggfunc=lambda x: \" \".join(x),\n",
    ").reset_index()\n",
    "df = df_pivoted.copy()\n",
    "df = df.drop([\"text-6\", \"text-7\", \"text-8\"], axis=1)"
   ]
  },
  {
   "cell_type": "code",
   "execution_count": 5,
   "metadata": {},
   "outputs": [
    {
     "data": {
      "text/html": [
       "<div>\n",
       "<style scoped>\n",
       "    .dataframe tbody tr th:only-of-type {\n",
       "        vertical-align: middle;\n",
       "    }\n",
       "\n",
       "    .dataframe tbody tr th {\n",
       "        vertical-align: top;\n",
       "    }\n",
       "\n",
       "    .dataframe thead th {\n",
       "        text-align: right;\n",
       "    }\n",
       "</style>\n",
       "<table border=\"1\" class=\"dataframe\">\n",
       "  <thead>\n",
       "    <tr style=\"text-align: right;\">\n",
       "      <th>new_column</th>\n",
       "      <th>userid</th>\n",
       "      <th>course_number</th>\n",
       "      <th>label</th>\n",
       "      <th>label_mapped</th>\n",
       "      <th>text-1</th>\n",
       "      <th>text-2</th>\n",
       "      <th>text-3</th>\n",
       "      <th>text-4</th>\n",
       "      <th>text-5</th>\n",
       "      <th>text-6</th>\n",
       "      <th>text-7</th>\n",
       "      <th>text-8</th>\n",
       "    </tr>\n",
       "  </thead>\n",
       "  <tbody>\n",
       "    <tr>\n",
       "      <th>0</th>\n",
       "      <td>B-2020_U1</td>\n",
       "      <td>1</td>\n",
       "      <td>4</td>\n",
       "      <td>F</td>\n",
       "      <td>オンライン授業での初回ということもあり不安な点はあったが今後の進め方についても理解でき授業へ...</td>\n",
       "      <td>ipaという組織がセキュリティに関する情報を発信していることやパスワードを変えることの重要性...</td>\n",
       "      <td>事前の学習で線を引くなどの予習ができていなかったので次回からは授業前にしっかり資料を確認したい</td>\n",
       "      <td>NaN</td>\n",
       "      <td>オンライン授業ではあるが集中力など切れないように今後も学習していきたいと思う</td>\n",
       "      <td>NaN</td>\n",
       "      <td>NaN</td>\n",
       "      <td>NaN</td>\n",
       "    </tr>\n",
       "    <tr>\n",
       "      <th>1</th>\n",
       "      <td>B-2020_U10</td>\n",
       "      <td>1</td>\n",
       "      <td>1</td>\n",
       "      <td>B</td>\n",
       "      <td>授業の説明とサイバーセキュリティの現状\\r\\n</td>\n",
       "      <td>パスワードの使い回しや情報提供に気を付ける\\r\\nサプライチェーンを利用した攻撃が増えている...</td>\n",
       "      <td>NaN</td>\n",
       "      <td>NaN</td>\n",
       "      <td>スライドを見ながら話を聞いていても知らない横文字言葉が出てくると一時的に思考停止してしまった</td>\n",
       "      <td>NaN</td>\n",
       "      <td>NaN</td>\n",
       "      <td>NaN</td>\n",
       "    </tr>\n",
       "    <tr>\n",
       "      <th>2</th>\n",
       "      <td>B-2020_U10</td>\n",
       "      <td>2</td>\n",
       "      <td>1</td>\n",
       "      <td>B</td>\n",
       "      <td>自分の端末の管理は非常に重要で暗号化やバックアップなどが大切\\r\\nなりすましや偽リンクなど...</td>\n",
       "      <td>秘密の質問で質問に関係ない答えを入力するということを初めて知ってめちゃめちゃびっくりした\\r...</td>\n",
       "      <td>NaN</td>\n",
       "      <td>NaN</td>\n",
       "      <td>前日に予習して資料の多さに頭がパンクしそうだったがおかげで大部分が理解できた</td>\n",
       "      <td>NaN</td>\n",
       "      <td>NaN</td>\n",
       "      <td>NaN</td>\n",
       "    </tr>\n",
       "    <tr>\n",
       "      <th>3</th>\n",
       "      <td>B-2020_U10</td>\n",
       "      <td>3</td>\n",
       "      <td>1</td>\n",
       "      <td>B</td>\n",
       "      <td>研究における不正行為がどんなものであるかと九州大学が定めている情報倫理について</td>\n",
       "      <td>データの捏造や改竄盗用は絶対に行ってはいけない不正行為であるということ\\r\\n引用する際は参...</td>\n",
       "      <td>途中すこしだけ寝落ちしてしまった</td>\n",
       "      <td>NaN</td>\n",
       "      <td>前回前々回よりも難易度が上がり予習の段階でよくわからない部分が多々あった</td>\n",
       "      <td>NaN</td>\n",
       "      <td>NaN</td>\n",
       "      <td>NaN</td>\n",
       "    </tr>\n",
       "    <tr>\n",
       "      <th>4</th>\n",
       "      <td>B-2020_U10</td>\n",
       "      <td>4</td>\n",
       "      <td>1</td>\n",
       "      <td>B</td>\n",
       "      <td>暗号化複合化の仕組みとセキュリティ証明の仕組みについて</td>\n",
       "      <td>暗号化にもいろいろな方法があることを知った\\r\\nセキュリティの安全性を証明するために様々な...</td>\n",
       "      <td>NaN</td>\n",
       "      <td>NaN</td>\n",
       "      <td>近所で小学生たちがギャーギャー騒ぎながら遊んでいたので少し集中できなかった</td>\n",
       "      <td>NaN</td>\n",
       "      <td>NaN</td>\n",
       "      <td>NaN</td>\n",
       "    </tr>\n",
       "  </tbody>\n",
       "</table>\n",
       "</div>"
      ],
      "text/plain": [
       "new_column      userid  course_number  label label_mapped  \\\n",
       "0            B-2020_U1              1      4            F   \n",
       "1           B-2020_U10              1      1            B   \n",
       "2           B-2020_U10              2      1            B   \n",
       "3           B-2020_U10              3      1            B   \n",
       "4           B-2020_U10              4      1            B   \n",
       "\n",
       "new_column                                             text-1  \\\n",
       "0           オンライン授業での初回ということもあり不安な点はあったが今後の進め方についても理解でき授業へ...   \n",
       "1                                     授業の説明とサイバーセキュリティの現状\\r\\n   \n",
       "2           自分の端末の管理は非常に重要で暗号化やバックアップなどが大切\\r\\nなりすましや偽リンクなど...   \n",
       "3                     研究における不正行為がどんなものであるかと九州大学が定めている情報倫理について   \n",
       "4                                 暗号化複合化の仕組みとセキュリティ証明の仕組みについて   \n",
       "\n",
       "new_column                                             text-2  \\\n",
       "0           ipaという組織がセキュリティに関する情報を発信していることやパスワードを変えることの重要性...   \n",
       "1           パスワードの使い回しや情報提供に気を付ける\\r\\nサプライチェーンを利用した攻撃が増えている...   \n",
       "2           秘密の質問で質問に関係ない答えを入力するということを初めて知ってめちゃめちゃびっくりした\\r...   \n",
       "3           データの捏造や改竄盗用は絶対に行ってはいけない不正行為であるということ\\r\\n引用する際は参...   \n",
       "4           暗号化にもいろいろな方法があることを知った\\r\\nセキュリティの安全性を証明するために様々な...   \n",
       "\n",
       "new_column                                           text-3 text-4  \\\n",
       "0           事前の学習で線を引くなどの予習ができていなかったので次回からは授業前にしっかり資料を確認したい    NaN   \n",
       "1                                                       NaN    NaN   \n",
       "2                                                       NaN    NaN   \n",
       "3                                          途中すこしだけ寝落ちしてしまった    NaN   \n",
       "4                                                       NaN    NaN   \n",
       "\n",
       "new_column                                          text-5 text-6 text-7  \\\n",
       "0                   オンライン授業ではあるが集中力など切れないように今後も学習していきたいと思う    NaN    NaN   \n",
       "1           スライドを見ながら話を聞いていても知らない横文字言葉が出てくると一時的に思考停止してしまった    NaN    NaN   \n",
       "2                   前日に予習して資料の多さに頭がパンクしそうだったがおかげで大部分が理解できた    NaN    NaN   \n",
       "3                     前回前々回よりも難易度が上がり予習の段階でよくわからない部分が多々あった    NaN    NaN   \n",
       "4                    近所で小学生たちがギャーギャー騒ぎながら遊んでいたので少し集中できなかった    NaN    NaN   \n",
       "\n",
       "new_column text-8  \n",
       "0             NaN  \n",
       "1             NaN  \n",
       "2             NaN  \n",
       "3             NaN  \n",
       "4             NaN  "
      ]
     },
     "execution_count": 5,
     "metadata": {},
     "output_type": "execute_result"
    }
   ],
   "source": [
    "df_pivoted.head()"
   ]
  },
  {
   "cell_type": "code",
   "execution_count": 6,
   "metadata": {},
   "outputs": [],
   "source": [
    "# dataset = load_dataset(\"kunishou/J-ResearchCorpus\", split='train')\n",
    "# print(dataset[0])\n",
    "dataset = Dataset.from_pandas(df)"
   ]
  },
  {
   "cell_type": "code",
   "execution_count": 7,
   "metadata": {},
   "outputs": [
    {
     "data": {
      "text/plain": [
       "{'userid': 'B-2020_U1',\n",
       " 'course_number': 1,\n",
       " 'label': 4,\n",
       " 'label_mapped': 'F',\n",
       " 'text-1': 'オンライン授業での初回ということもあり不安な点はあったが今後の進め方についても理解でき授業への意欲が高まった',\n",
       " 'text-2': 'ipaという組織がセキュリティに関する情報を発信していることやパスワードを変えることの重要性を学んだ',\n",
       " 'text-3': '事前の学習で線を引くなどの予習ができていなかったので次回からは授業前にしっかり資料を確認したい',\n",
       " 'text-4': None,\n",
       " 'text-5': 'オンライン授業ではあるが集中力など切れないように今後も学習していきたいと思う'}"
      ]
     },
     "execution_count": 7,
     "metadata": {},
     "output_type": "execute_result"
    }
   ],
   "source": [
    "dataset[0]"
   ]
  },
  {
   "cell_type": "markdown",
   "metadata": {},
   "source": [
    "### モデル読み込み"
   ]
  },
  {
   "cell_type": "code",
   "execution_count": 8,
   "metadata": {},
   "outputs": [],
   "source": [
    "model_name = \"helloollel/vicuna-7b\"\n",
    "model_id = \"lmsys/vicuna-13b-v1.5\"\n",
    "model_id = \"elyza/Llama-3-ELYZA-JP-8B\"\n",
    "# model_id = \"eachadea/legacy-vicuna-13b\""
   ]
  },
  {
   "cell_type": "code",
   "execution_count": 9,
   "metadata": {},
   "outputs": [],
   "source": [
    "#! set quantization configuration to load large model with less GPU memory\n",
    "#! this requires the `bitsandbytes` library\n",
    "\n",
    "device = \"cuda:0\" if torch.cuda.is_available() else \"cpu\"\n",
    "\n",
    "bnb_config = transformers.BitsAndBytesConfig(\n",
    "    load_in_4bit=True,  # 4-bit quantization\n",
    "    bnb_4bit_quant_type='nf4',  # Normalized float 4\n",
    "    bnb_4bit_use_double_quant=True,  # Second quantization after the first\n",
    "    bnb_4bit_compute_dtype=bfloat16  # Computation type\n",
    ")"
   ]
  },
  {
   "cell_type": "code",
   "execution_count": 10,
   "metadata": {},
   "outputs": [
    {
     "name": "stderr",
     "output_type": "stream",
     "text": [
      "tokenizer_config.json: 100%|██████████| 51.0k/51.0k [00:00<00:00, 346kB/s]\n",
      "tokenizer.json: 100%|██████████| 9.09M/9.09M [00:01<00:00, 7.39MB/s]\n",
      "special_tokens_map.json: 100%|██████████| 296/296 [00:00<00:00, 1.35MB/s]\n",
      "Special tokens have been added in the vocabulary, make sure the associated word embeddings are fine-tuned or trained.\n",
      "config.json: 100%|██████████| 718/718 [00:00<00:00, 3.56MB/s]\n",
      "model.safetensors.index.json: 100%|██████████| 23.9k/23.9k [00:00<00:00, 29.7MB/s]\n",
      "model-00001-of-00004.safetensors: 100%|██████████| 4.98G/4.98G [00:56<00:00, 88.2MB/s]\n",
      "model-00002-of-00004.safetensors: 100%|██████████| 5.00G/5.00G [00:58<00:00, 85.9MB/s]\n",
      "model-00003-of-00004.safetensors: 100%|██████████| 4.92G/4.92G [00:57<00:00, 85.5MB/s]\n",
      "model-00004-of-00004.safetensors: 100%|██████████| 1.17G/1.17G [00:13<00:00, 85.7MB/s]\n",
      "Downloading shards: 100%|██████████| 4/4 [03:06<00:00, 46.73s/it]\n",
      "Loading checkpoint shards: 100%|██████████| 4/4 [00:06<00:00,  1.72s/it]\n",
      "generation_config.json: 100%|██████████| 194/194 [00:00<00:00, 491kB/s]\n"
     ]
    },
    {
     "data": {
      "text/plain": [
       "LlamaForCausalLM(\n",
       "  (model): LlamaModel(\n",
       "    (embed_tokens): Embedding(128256, 4096)\n",
       "    (layers): ModuleList(\n",
       "      (0-31): 32 x LlamaDecoderLayer(\n",
       "        (self_attn): LlamaSdpaAttention(\n",
       "          (q_proj): Linear4bit(in_features=4096, out_features=4096, bias=False)\n",
       "          (k_proj): Linear4bit(in_features=4096, out_features=1024, bias=False)\n",
       "          (v_proj): Linear4bit(in_features=4096, out_features=1024, bias=False)\n",
       "          (o_proj): Linear4bit(in_features=4096, out_features=4096, bias=False)\n",
       "          (rotary_emb): LlamaRotaryEmbedding()\n",
       "        )\n",
       "        (mlp): LlamaMLP(\n",
       "          (gate_proj): Linear4bit(in_features=4096, out_features=14336, bias=False)\n",
       "          (up_proj): Linear4bit(in_features=4096, out_features=14336, bias=False)\n",
       "          (down_proj): Linear4bit(in_features=14336, out_features=4096, bias=False)\n",
       "          (act_fn): SiLU()\n",
       "        )\n",
       "        (input_layernorm): LlamaRMSNorm()\n",
       "        (post_attention_layernorm): LlamaRMSNorm()\n",
       "      )\n",
       "    )\n",
       "    (norm): LlamaRMSNorm()\n",
       "  )\n",
       "  (lm_head): Linear(in_features=4096, out_features=128256, bias=False)\n",
       ")"
      ]
     },
     "execution_count": 10,
     "metadata": {},
     "output_type": "execute_result"
    }
   ],
   "source": [
    "# Load model directly\n",
    "\n",
    "\n",
    "# model = AutoModelForCausalLM.from_pretrained(model_name)\n",
    "# tokenizer = AutoTokenizer.from_pretrained(model_name)\n",
    "\n",
    "# Tokenizer\n",
    "tokenizer = transformers.AutoTokenizer.from_pretrained(model_id)\n",
    "\n",
    "# Model\n",
    "model = transformers.AutoModelForCausalLM.from_pretrained(\n",
    "    model_id,\n",
    "    trust_remote_code=True,\n",
    "    quantization_config=bnb_config,\n",
    "    device_map='auto',\n",
    ")\n",
    "\n",
    "model.eval()"
   ]
  },
  {
   "cell_type": "markdown",
   "metadata": {},
   "source": [
    "### モデルのテスト\n",
    "今回は要約タスクをさせます．"
   ]
  },
  {
   "cell_type": "markdown",
   "metadata": {},
   "source": [
    "テスト用："
   ]
  },
  {
   "cell_type": "code",
   "execution_count": null,
   "metadata": {},
   "outputs": [],
   "source": [
    "preamble = '''### 以下に論文を示します。\n",
    "論文の内容を要約してください。\n",
    "'''\n",
    "\n",
    "output_prompt = '### 出力：'\n",
    "\n",
    "template = Template('''$preamble\n",
    "             \n",
    "$text\n",
    "\n",
    "$output_prompt\n",
    "''')"
   ]
  },
  {
   "cell_type": "code",
   "execution_count": null,
   "metadata": {},
   "outputs": [],
   "source": [
    "def format_input(dataset, idx):\n",
    "    \n",
    "    # question = dataset[idx]['question_content']\n",
    "    text = dataset[idx]['text']\n",
    "\n",
    "    input_text = template.substitute(\n",
    "        preamble=preamble,\n",
    "        text = text,\n",
    "        output_prompt=output_prompt\n",
    "    )\n",
    "    return input_text"
   ]
  },
  {
   "cell_type": "code",
   "execution_count": 11,
   "metadata": {},
   "outputs": [],
   "source": [
    "preamble = '''### 以下に示すものは、講義「情報科学」に関するアンケートと、回答した生徒の成績です。\n",
    "アンケートは全部で5問あります。\n",
    "最初の行が質問文、次の文が生徒の回答文、最後の行が成績です。\n",
    "成績はA, B, C, D, Fのいずれかです。\n",
    "アンケートの回答から、生徒の成績の理由を解説してください。'''\n",
    "\n",
    "output_prompt = '### 出力：'\n",
    "\n",
    "template = Template('''$preamble\n",
    "\n",
    "質問1: $question1\n",
    "回答1: $answer1\n",
    "\n",
    "質問2: $question2\n",
    "回答2: $answer2\n",
    "\n",
    "質問3: $question3\n",
    "回答3: $answer3\n",
    "\n",
    "質問4: $question4\n",
    "回答4: $answer4\n",
    "\n",
    "質問5: $question5\n",
    "回答5: $answer5\n",
    "                    \n",
    "成績：$grade\n",
    "\n",
    "$output_prompt\n",
    "''')"
   ]
  },
  {
   "cell_type": "code",
   "execution_count": 12,
   "metadata": {},
   "outputs": [],
   "source": [
    "def format_input(dataset, idx):\n",
    "    \n",
    "    # question = dataset[idx]['question_content']\n",
    "    # answer = dataset[idx]['text']\n",
    "\n",
    "    q1 = questions[0]['question']\n",
    "    q2 = questions[1]['question']\n",
    "    q3 = questions[2]['question']\n",
    "    q4 = questions[3]['question']\n",
    "    q5 = questions[4]['question']\n",
    "\n",
    "    p1 = dataset[idx]['text-1']\n",
    "    p2 = dataset[idx]['text-2']\n",
    "    p3 = dataset[idx]['text-3']\n",
    "    p4 = dataset[idx]['text-4']\n",
    "    p5 = dataset[idx]['text-5']\n",
    "\n",
    "    grade = dataset[idx]['label_mapped']\n",
    "\n",
    "\n",
    "    # input_text = template.substitute(\n",
    "    #     preamble=preamble, question=Q, answer=P, output_prompt=output_prompt)\n",
    "    input_text = template.substitute(\n",
    "        preamble=preamble,\n",
    "        question1=q1, answer1=p1,\n",
    "        question2=q2, answer2=p2,\n",
    "        question3=q3, answer3=p3,\n",
    "        question4=q4, answer4=p4,\n",
    "        question5=q5, answer5=p5,\n",
    "        grade=grade,\n",
    "        output_prompt=output_prompt\n",
    "    )\n",
    "    return input_text"
   ]
  },
  {
   "cell_type": "code",
   "execution_count": 13,
   "metadata": {},
   "outputs": [
    {
     "name": "stdout",
     "output_type": "stream",
     "text": [
      "### 以下に示すものは、講義「情報科学」に関するアンケートと、回答した生徒の成績です。\n",
      "アンケートは全部で5問あります。\n",
      "最初の行が質問文、次の文が生徒の回答文、最後の行が成績です。\n",
      "成績はA, B, C, D, Fのいずれかです。\n",
      "アンケートの回答から、生徒の成績の理由を解説してください。\n",
      "\n",
      "質問1: 今日の内容を自分なりの言葉で説明してみてください\n",
      "回答1: オンライン授業での初回ということもあり不安な点はあったが今後の進め方についても理解でき授業への意欲が高まった\n",
      "\n",
      "質問2: 今日の内容で、分かったこと・できたことを書いてください\n",
      "回答2: ipaという組織がセキュリティに関する情報を発信していることやパスワードを変えることの重要性を学んだ\n",
      "\n",
      "質問3: 今日の授業の感想や反省を書いてください\n",
      "回答3: 事前の学習で線を引くなどの予習ができていなかったので次回からは授業前にしっかり資料を確認したい\n",
      "\n",
      "質問4: 今日の内容を自分なりの言葉で説明してみてください\n",
      "回答4: None\n",
      "\n",
      "質問5: 今日の内容で、分かったこと・できたことを書いてください\n",
      "回答5: オンライン授業ではあるが集中力など切れないように今後も学習していきたいと思う\n",
      "                    \n",
      "成績：F\n",
      "\n",
      "### 出力：\n",
      "\n"
     ]
    }
   ],
   "source": [
    "# example\n",
    "print(format_input(dataset, 0))"
   ]
  },
  {
   "cell_type": "code",
   "execution_count": 14,
   "metadata": {},
   "outputs": [],
   "source": [
    "def summarize_text(text):\n",
    "    inputs = tokenizer.encode(text, return_tensors=\"pt\", max_length=2048, truncation=True)\n",
    "    print(f\"input text:{tokenizer.decode(inputs[0])}\")\n",
    "    print(f\"input tensor length:{len(inputs[0])}\")\n",
    "    inputs.to('cuda:0')\n",
    "\n",
    "\n",
    "    generation_config = GenerationConfig(\n",
    "    max_new_tokens=1000,\n",
    "    min_length=40,\n",
    "    length_penalty=0.5,\n",
    "    num_beams=4,\n",
    "    early_stopping=True\n",
    "    )\n",
    "    outputs = model.generate(inputs, generation_config=generation_config)\n",
    "    summary = tokenizer.decode(outputs[0], skip_special_tokens=True)\n",
    "    return summary"
   ]
  },
  {
   "cell_type": "code",
   "execution_count": 15,
   "metadata": {},
   "outputs": [
    {
     "name": "stdout",
     "output_type": "stream",
     "text": [
      "F\n",
      "input text:<|begin_of_text|>### 以下に示すものは、講義「情報科学」に関するアンケートと、回答した生徒の成績です。\n",
      "アンケートは全部で5問あります。\n",
      "最初の行が質問文、次の文が生徒の回答文、最後の行が成績です。\n",
      "成績はA, B, C, D, Fのいずれかです。\n",
      "アンケートの回答から、生徒の成績の理由を解説してください。\n",
      "\n",
      "質問1: 今日の内容を自分なりの言葉で説明してみてください\n",
      "回答1: オンライン授業での初回ということもあり不安な点はあったが今後の進め方についても理解でき授業への意欲が高まった\n",
      "\n",
      "質問2: 今日の内容で、分かったこと・できたことを書いてください\n",
      "回答2: ipaという組織がセキュリティに関する情報を発信していることやパスワードを変えることの重要性を学んだ\n",
      "\n",
      "質問3: 今日の授業の感想や反省を書いてください\n",
      "回答3: 事前の学習で線を引くなどの予習ができていなかったので次回からは授業前にしっかり資料を確認したい\n",
      "\n",
      "質問4: 今日の内容を自分なりの言葉で説明してみてください\n",
      "回答4: None\n",
      "\n",
      "質問5: 今日の内容で、分かったこと・できたことを書いてください\n",
      "回答5: オンライン授業ではあるが集中力など切れないように今後も学習していきたいと思う\n",
      "                    \n",
      "成績：F\n",
      "\n",
      "### 出力：\n",
      "\n",
      "input tensor length:358\n"
     ]
    },
    {
     "name": "stderr",
     "output_type": "stream",
     "text": [
      "/usr/local/lib/python3.10/dist-packages/transformers/generation/utils.py:1477: UserWarning: You are calling .generate() with the `input_ids` being on a device type different than your model's device. `input_ids` is on cpu, whereas the model is on cuda. You may experience unexpected behaviors or slower generation. Please make sure that you have put `input_ids` to the correct device by calling for example input_ids = input_ids.to('cuda') before running `.generate()`.\n",
      "  warnings.warn(\n"
     ]
    }
   ],
   "source": [
    "print(dataset[0]['label_mapped'])\n",
    "# sample_text = dataset[0]['text']\n",
    "summary = summarize_text(format_input(dataset, 0))\n"
   ]
  },
  {
   "cell_type": "code",
   "execution_count": null,
   "metadata": {},
   "outputs": [
    {
     "name": "stdout",
     "output_type": "stream",
     "text": [
      "### 以下に示すものは、講義「情報科学」に関するアンケートと、回答した生徒の成績です。\n",
      "アンケートは全部で5問あります。\n",
      "最初の行が質問文、次の文が生徒の回答文、最後の行が成績です。\n",
      "成績はA, B, C, D, Fのいずれかです。\n",
      "アンケートの回答から、生徒の成績の理由を解説してください。\n",
      "\n",
      "質問1: 今日の内容を自分なりの言葉で説明してみてください\n",
      "回答1: オンライン授業での初回ということもあり不安な点はあったが今後の進め方についても理解でき授業への意欲が高まった\n",
      "\n",
      "質問2: 今日の内容で、分かったこと・できたことを書いてください\n",
      "回答2: ipaという組織がセキュリティに関する情報を発信していることやパスワードを変えることの重要性を学んだ\n",
      "\n",
      "質問3: 今日の授業の感想や反省を書いてください\n",
      "回答3: 事前の学習で線を引くなどの予習ができていなかったので次回からは授業前にしっかり資料を確認したい\n",
      "\n",
      "質問4: 今日の内容を自分なりの言葉で説明してみてください\n",
      "回答4: None\n",
      "\n",
      "質問5: 今日の内容で、分かったこと・できたことを書いてください\n",
      "回答5: オンライン授業ではあるが集中力など切れないように今後も学習していきたいと思う\n",
      "                    \n",
      "成績：F\n",
      "\n",
      "### 出力：\n",
      "質問1: 今日の内容を自分なりの言葉で説明してみてください\n",
      "回答1: オンライン授業での初回ということもあり不安な点はあったが今後の進め方についても理解でき授業への意欲が高まった\n",
      "\n",
      "質問2: 今日の内容で、分かったこと・できたことを書いてください\n",
      "回答2: ipaという組織がセキュリティに関する情報を発信していることやパスワードを変えることの重要性を学んだ\n",
      "\n",
      "質問3: 今日の授業の感想や反省を書いてください\n",
      "回答3: 事前の学習で線を引くなどの予習ができていなかったので次回からは授\n"
     ]
    }
   ],
   "source": [
    "print(summary)"
   ]
  }
 ],
 "metadata": {
  "kernelspec": {
   "display_name": "Python 3",
   "language": "python",
   "name": "python3"
  },
  "language_info": {
   "codemirror_mode": {
    "name": "ipython",
    "version": 3
   },
   "file_extension": ".py",
   "mimetype": "text/x-python",
   "name": "python",
   "nbconvert_exporter": "python",
   "pygments_lexer": "ipython3",
   "version": "3.10.12"
  }
 },
 "nbformat": 4,
 "nbformat_minor": 2
}
